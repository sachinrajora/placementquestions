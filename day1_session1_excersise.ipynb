{
  "nbformat": 4,
  "nbformat_minor": 0,
  "metadata": {
    "colab": {
      "name": "Untitled0.ipynb",
      "provenance": [],
      "collapsed_sections": [],
      "authorship_tag": "ABX9TyOgt3Z6Bmd1f01Qn1QciVrg",
      "include_colab_link": true
    },
    "kernelspec": {
      "name": "python3",
      "display_name": "Python 3"
    }
  },
  "cells": [
    {
      "cell_type": "markdown",
      "metadata": {
        "id": "view-in-github",
        "colab_type": "text"
      },
      "source": [
        "<a href=\"https://colab.research.google.com/github/sachinrajora/placementquestions/blob/master/day1_session1_excersise.ipynb\" target=\"_parent\"><img src=\"https://colab.research.google.com/assets/colab-badge.svg\" alt=\"Open In Colab\"/></a>"
      ]
    },
    {
      "cell_type": "markdown",
      "metadata": {
        "id": "H4i8e8vdm5oK",
        "colab_type": "text"
      },
      "source": [
        "1.\tFind the compound interest for the given p,n,r  (formula : p(1+n*r/100)n )"
      ]
    },
    {
      "cell_type": "code",
      "metadata": {
        "id": "lONlkeVznIer",
        "colab_type": "code",
        "outputId": "496afd08-4281-4823-9782-7e116d666dae",
        "colab": {
          "base_uri": "https://localhost:8080/",
          "height": 137
        }
      },
      "source": [
        "# Python program to find compound interest \n",
        "\n",
        "p = float(input(\"Enter the principle amount : \"))\n",
        "r = float(input(\"Enter the rate of interest : \"))\n",
        "t = float(input(\"Enter the time in the years: \"))\n",
        "\n",
        "# calculating compound interest\n",
        "ci =  p * (pow((1 + r / 100), t)) \n",
        "\n",
        "# printing the values\n",
        "print(\"Principle amount  : \", p)\n",
        "print(\"Interest rate     : \", r)\n",
        "print(\"Time in years     : \", t)\n",
        "print(\"compound Interest : \", ci)\n"
      ],
      "execution_count": 0,
      "outputs": [
        {
          "output_type": "stream",
          "text": [
            "Enter the principle amount : 1000\n",
            "Enter the rate of interest : 5\n",
            "Enter the time in the years: 2\n",
            "Principle amount  :  1000.0\n",
            "Interest rate     :  5.0\n",
            "Time in years     :  2.0\n",
            "compound Interest :  1102.5\n"
          ],
          "name": "stdout"
        }
      ]
    },
    {
      "cell_type": "markdown",
      "metadata": {
        "id": "dW1zTI4InhNE",
        "colab_type": "text"
      },
      "source": [
        "2.\tConvert centegrade to farenheit  ( f= 9/5*c+32)"
      ]
    },
    {
      "cell_type": "code",
      "metadata": {
        "id": "m7smOLdEnlGN",
        "colab_type": "code",
        "outputId": "4e60ce6d-0939-4059-d5ae-c62d107ea48f",
        "colab": {
          "base_uri": "https://localhost:8080/",
          "height": 51
        }
      },
      "source": [
        "celsius = float(input(\"Enter temperature in celsius: \"))\n",
        "fahrenheit = (celsius * 9/5) + 32\n",
        "print('%.2f Celsius is: %0.2f Fahrenheit' %(celsius, fahrenheit))"
      ],
      "execution_count": 0,
      "outputs": [
        {
          "output_type": "stream",
          "text": [
            "Enter temperature in celsius: 37\n",
            "37.00 Celsius is: 98.60 Fahrenheit\n"
          ],
          "name": "stdout"
        }
      ]
    },
    {
      "cell_type": "markdown",
      "metadata": {
        "id": "ZBl4sGlen3ds",
        "colab_type": "text"
      },
      "source": [
        "3.\tFind the greater of two nos"
      ]
    },
    {
      "cell_type": "code",
      "metadata": {
        "id": "xEIzfbH5n7hp",
        "colab_type": "code",
        "outputId": "11cc37bd-0e30-47dc-99b6-409ed2c4a55f",
        "colab": {
          "base_uri": "https://localhost:8080/",
          "height": 68
        }
      },
      "source": [
        "num1 = int(input(\"Enter the first number: \"))\n",
        "num2 = int(input(\"Enter the second number: \"))\n",
        "print(max(num1, num2), \"is greater\")"
      ],
      "execution_count": 0,
      "outputs": [
        {
          "output_type": "stream",
          "text": [
            "Enter the first number: 4\n",
            "Enter the second number: 9\n",
            "9 is greater\n"
          ],
          "name": "stdout"
        }
      ]
    },
    {
      "cell_type": "markdown",
      "metadata": {
        "id": "ocGy5pD5oUxh",
        "colab_type": "text"
      },
      "source": [
        "4.\tWrite a program for finding surface areas of cylinder and cone (2*PI*r*r*h, 1/3*PI*r*r*h) using function."
      ]
    },
    {
      "cell_type": "code",
      "metadata": {
        "id": "Yu5S3jgex9tr",
        "colab_type": "code",
        "colab": {
          "base_uri": "https://localhost:8080/",
          "height": 51
        },
        "outputId": "be74f4bf-c1bc-49b1-e5a2-ea4115a87da6"
      },
      "source": [
        "import math \n",
        "pi = math.pi\n",
        "def surfacearea1(r, h):\n",
        "    return 2 * math.pi * r * h + 2 * math.pi *math.pow(r, 2)\n",
        "  \n",
        "# Function To Calculate Surface Area of Cone\n",
        "def surfacearea2(r, s): \n",
        "    return pi * r * s + pi * r * r \n",
        "\n",
        "radius = float(5) \n",
        "height = float(12) \n",
        "slat_height = float(13) \n",
        "print( \"Surface Area Of Cylinder : \", surfacearea1(radius, height) ) \n",
        "print( \"Surface Area Of Cone : \", surfacearea2(radius, slat_height) ) "
      ],
      "execution_count": 7,
      "outputs": [
        {
          "output_type": "stream",
          "text": [
            "Surface Area Of Cylinder :  534.0707511102648\n",
            "Surface Area Of Cone :  282.7433388230814\n"
          ],
          "name": "stdout"
        }
      ]
    },
    {
      "cell_type": "markdown",
      "metadata": {
        "id": "N9H6Tyzi0vhy",
        "colab_type": "text"
      },
      "source": [
        "5.\tFind the greatest of four nos ( using ‘and’ operator)   using function."
      ]
    },
    {
      "cell_type": "code",
      "metadata": {
        "id": "L8oIB_DM0xJz",
        "colab_type": "code",
        "colab": {
          "base_uri": "https://localhost:8080/",
          "height": 102
        },
        "outputId": "067a6589-358f-4909-ee7d-7f7ecb0aba0b"
      },
      "source": [
        "def max4(a,b,c,d):\n",
        "  if (a >= b) and (a >= c) and (a >= d):\n",
        "   return a\n",
        "  elif (b >= c) and (b >= d):\n",
        "   return b\n",
        "  elif (c >= d):\n",
        "    return c\n",
        "  else:\n",
        "    return d  \n",
        "\n",
        "a=int(input(\"Enter A: \"))\n",
        "b=int(input(\"Enter B: \"))\n",
        "c=int(input(\"Enter C: \"))\n",
        "d=int(input(\"Enter D: \"))\n",
        "\n",
        "print(max4(a, b, c, d))\n"
      ],
      "execution_count": 9,
      "outputs": [
        {
          "output_type": "stream",
          "text": [
            "Enter A: 6\n",
            "Enter B: 5\n",
            "Enter C: 7\n",
            "Enter D: 3\n",
            "7\n"
          ],
          "name": "stdout"
        }
      ]
    },
    {
      "cell_type": "markdown",
      "metadata": {
        "id": "UdYJ4UR92bl5",
        "colab_type": "text"
      },
      "source": [
        "6.\tWrite a  menu program to perform the operations ( ODD or Even, Factorial, ODD No Upto N, Prime Up to N ) using functions for two nos with  menu choice"
      ]
    },
    {
      "cell_type": "code",
      "metadata": {
        "id": "OcZptVhK6VG6",
        "colab_type": "code",
        "colab": {
          "base_uri": "https://localhost:8080/",
          "height": 87
        },
        "outputId": "b71f1628-fc38-429f-dcc9-304c785d5149"
      },
      "source": [
        "loop = 1\n",
        "choice = 0\n",
        "def oddoreven(a):\n",
        "  if(a%2==0):\n",
        "   print(\"even\")\n",
        "  else:\n",
        "   print(\"odd\")\n",
        "def fact(num):\n",
        " factorial=1\n",
        " if num < 0:\n",
        "  print(\"Sorry, factorial does not exist for negative numbers\")\n",
        " elif num == 0:\n",
        "  print(\"The factorial of 0 is 1\")\n",
        " else:\n",
        "  for i in range(1,num + 1):\n",
        "   factorial = factorial*i\n",
        "   print(\"The factorial of\",num,\"is\",factorial)\n",
        "def odd(n):\n",
        " print(\"odd numbers: \");\n",
        " for i in range(1,n+1):\n",
        "  if(i%2!=0):\n",
        "   print(i)\n",
        "def prime(l,h):\n",
        " print(\"prime numbers: \")\n",
        " for num in range(l,h + 1):\n",
        "   if num > 1:\n",
        "    for i in range(2,num):\n",
        "     if (num % i) == 0:\n",
        "      break\n",
        "   else:\n",
        "    print(num)\n",
        "\n",
        "while loop == 1:\n",
        " print (\"Welcome\")\n",
        " print (\"your options are:\")\n",
        " print (\"\")\n",
        " print(\"1) odd or even\")\n",
        " print(\"2) factorial\")\n",
        " print(\"3) odd upto n\")\n",
        " print(\"4) prime upto n\")\n",
        " print(\"5) Quit \")\n",
        " print(\"\")\n",
        " try:\n",
        "  choice = int(input(\"Choose your option: \"))\n",
        " except:\n",
        "  print('please enter a valid number for option')\n",
        "  print(\"\")\n",
        "  print(\"\")\n",
        "  if choice == 1:\n",
        "   x = int(input(\" Enter no: \"))\n",
        "   oddoreven(x)\n",
        "  elif choice == 2:\n",
        "   x = int(input(\"Enter no: \"))\n",
        "   fact(x)\n",
        "  elif choice == 3:\n",
        "   x = int(input(\"Enter range: \"))\n",
        "   odd(x)\n",
        "  elif choice == 4:\n",
        "   x = int(input(\"Enter lower range: \"))\n",
        "   y = int(input(\"Enter upper range: \"))\n",
        "   prime(x,y)\n",
        "  elif choice == 5:\n",
        "   loop = 0\n",
        "  else:\n",
        "   print(\"please choice a valid option from 1 to 5\")\n",
        "   choice=0\n",
        "print (\"Thank-you \")"
      ],
      "execution_count": 0,
      "outputs": [
        {
          "output_type": "stream",
          "text": [
            "please enter a valid number for option\n",
            "\n",
            "\n"
          ],
          "name": "stdout"
        }
      ]
    },
    {
      "cell_type": "markdown",
      "metadata": {
        "id": "Q0nzfj1nydMz",
        "colab_type": "text"
      },
      "source": [
        ""
      ]
    }
  ]
}