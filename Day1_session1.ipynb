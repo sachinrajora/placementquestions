{
  "nbformat": 4,
  "nbformat_minor": 0,
  "metadata": {
    "colab": {
      "name": "Day1 session1.ipynb",
      "provenance": [],
      "authorship_tag": "ABX9TyO7Bkga3E2oiWrmYVwIYLJl",
      "include_colab_link": true
    },
    "kernelspec": {
      "name": "python3",
      "display_name": "Python 3"
    }
  },
  "cells": [
    {
      "cell_type": "markdown",
      "metadata": {
        "id": "view-in-github",
        "colab_type": "text"
      },
      "source": [
        "<a href=\"https://colab.research.google.com/github/sachinrajora/placementquestions/blob/master/Day1_session1.ipynb\" target=\"_parent\"><img src=\"https://colab.research.google.com/assets/colab-badge.svg\" alt=\"Open In Colab\"/></a>"
      ]
    },
    {
      "cell_type": "markdown",
      "metadata": {
        "id": "-VacQHXn0rfe",
        "colab_type": "text"
      },
      "source": [
        "**1.Python Program to Add Two Numbers getting through key board**"
      ]
    },
    {
      "cell_type": "code",
      "metadata": {
        "id": "mZIfv0sV0qVC",
        "colab_type": "code",
        "colab": {
          "base_uri": "https://localhost:8080/",
          "height": 68
        },
        "outputId": "14318a44-3ee2-4073-8a33-37dd4b63ad01"
      },
      "source": [
        "num1 = int(input(\"Enter first no\"))\n",
        "num2 = int(input(\"Enter second no\"))\n",
        "\n",
        "sum = num1 + num2\n",
        "\n",
        "print('The sum of {0} and {1} is {2}'.format(num1, num2, sum))\n",
        "\n"
      ],
      "execution_count": 1,
      "outputs": [
        {
          "output_type": "stream",
          "text": [
            "Enter first no5\n",
            "Enter second no5\n",
            "The sum of 5 and 5 is 10\n"
          ],
          "name": "stdout"
        }
      ]
    },
    {
      "cell_type": "markdown",
      "metadata": {
        "id": "4SMOCfXZ1Vxm",
        "colab_type": "text"
      },
      "source": [
        "**2.Python program to check if the input year is a leap year or not**"
      ]
    },
    {
      "cell_type": "code",
      "metadata": {
        "id": "uk0Pk1sw1gKo",
        "colab_type": "code",
        "colab": {
          "base_uri": "https://localhost:8080/",
          "height": 51
        },
        "outputId": "191edf1c-ce90-4f4b-8c34-ef3ef4f2d79b"
      },
      "source": [
        "year = int(input(\"Enter a year: \"))\n",
        "\n",
        "if ((year % 4) == 0 and (year % 100)  != 0) or ((year % 400) == 0):\n",
        " print(\"{0} is a leap year\".format(year))\n",
        "else:\n",
        " print(\"{0} is not a leap year\".format(year))"
      ],
      "execution_count": 4,
      "outputs": [
        {
          "output_type": "stream",
          "text": [
            "Enter a year: 2012\n",
            "2012 is a leap year\n"
          ],
          "name": "stdout"
        }
      ]
    },
    {
      "cell_type": "markdown",
      "metadata": {
        "id": "ncK2uUhG1_xk",
        "colab_type": "text"
      },
      "source": [
        "**3.Python Program to Generate a Random Number**"
      ]
    },
    {
      "cell_type": "code",
      "metadata": {
        "id": "ByCfLqFv2IkL",
        "colab_type": "code",
        "colab": {
          "base_uri": "https://localhost:8080/",
          "height": 34
        },
        "outputId": "a479da84-76f5-435c-f99e-1dafd7257123"
      },
      "source": [
        "# import the random module\n",
        "import random\n",
        "print(random.randint(0,9))\n"
      ],
      "execution_count": 7,
      "outputs": [
        {
          "output_type": "stream",
          "text": [
            "3\n"
          ],
          "name": "stdout"
        }
      ]
    },
    {
      "cell_type": "markdown",
      "metadata": {
        "id": "SwmNiOAV2P6s",
        "colab_type": "text"
      },
      "source": [
        "**4.Python Program to Convert Kilometers to Miles**"
      ]
    },
    {
      "cell_type": "code",
      "metadata": {
        "id": "2PkJUmWe2fLk",
        "colab_type": "code",
        "colab": {
          "base_uri": "https://localhost:8080/",
          "height": 51
        },
        "outputId": "06a5158e-f8fe-4d63-a308-8162738cd244"
      },
      "source": [
        "kilometers = int(input(\"Enter value in kilometers\"))\n",
        "\n",
        "conv_fac = 0.621371\n",
        "\n",
        "miles = kilometers * conv_fac\n",
        "print('%0.3f kilometers is equal to %0.3f miles' %(kilometers,miles))\n"
      ],
      "execution_count": 9,
      "outputs": [
        {
          "output_type": "stream",
          "text": [
            "Enter value in kilometers7\n",
            "7.000 kilometers is equal to 4.350 miles\n"
          ],
          "name": "stdout"
        }
      ]
    },
    {
      "cell_type": "markdown",
      "metadata": {
        "id": "HY5u0dIj20vd",
        "colab_type": "text"
      },
      "source": [
        "**5.Python Program to Solve Quadratic Equation**"
      ]
    },
    {
      "cell_type": "code",
      "metadata": {
        "id": "rzwVhQWZ2-is",
        "colab_type": "code",
        "colab": {
          "base_uri": "https://localhost:8080/",
          "height": 85
        },
        "outputId": "6011e5ff-c777-4a5c-b870-941f47353def"
      },
      "source": [
        "# Solve the quadratic equation ax**2 + bx + c = 0\n",
        "# importing  complex math module\n",
        "import cmath\n",
        "\n",
        "# To take coefficient input from the users\n",
        "a = float(input('Enter a: '))\n",
        "b = float(input('Enter b: '))\n",
        "c = float(input('Enter c: '))\n",
        "\n",
        "# calculate the discriminant\n",
        "d = (b**2) - (4*a*c)\n",
        "\n",
        "# find two solutions\n",
        "sol1 = (-b-cmath.sqrt(d))/(2*a)\n",
        "sol2 = (-b+cmath.sqrt(d))/(2*a)\n",
        "\n",
        "print('The solution are {0} and {1}'.format(sol1,sol2))\n"
      ],
      "execution_count": 10,
      "outputs": [
        {
          "output_type": "stream",
          "text": [
            "Enter a: 8\n",
            "Enter b: 7\n",
            "Enter c: 9\n",
            "The solution are (-0.4375-0.9662265521087692j) and (-0.4375+0.9662265521087692j)\n"
          ],
          "name": "stdout"
        }
      ]
    },
    {
      "cell_type": "markdown",
      "metadata": {
        "id": "5DqLdEs43G-k",
        "colab_type": "text"
      },
      "source": [
        "**6.Python Program to find prime or not using function**"
      ]
    },
    {
      "cell_type": "code",
      "metadata": {
        "id": "-lMgVpAP3Ms8",
        "colab_type": "code",
        "colab": {
          "base_uri": "https://localhost:8080/",
          "height": 51
        },
        "outputId": "d50f3553-cc10-414c-a318-c053af0b27f2"
      },
      "source": [
        "def test_prime(n):\n",
        " if(n==1):\n",
        "  return False\n",
        " elif (n==2):\n",
        "  return True;\n",
        " else:\n",
        "  for x in range(2,n):\n",
        "   if(n % x==0):\n",
        "    return False\n",
        "   return True\n",
        "no=int(input(\"Enter the number\"))\n",
        "if (test_prime(no)) is True :\n",
        " print(\" {0} is a prime no\".format(no))\n",
        "else:\n",
        " print(\" {0} is not a prime no\".format(no))\n",
        "\n"
      ],
      "execution_count": 20,
      "outputs": [
        {
          "output_type": "stream",
          "text": [
            "Enter the number15\n",
            " 15 is a prime no\n"
          ],
          "name": "stdout"
        }
      ]
    },
    {
      "cell_type": "markdown",
      "metadata": {
        "id": "hvspXHab5DYT",
        "colab_type": "text"
      },
      "source": [
        "**Calculator program**"
      ]
    },
    {
      "cell_type": "code",
      "metadata": {
        "id": "un-09GcE55sW",
        "colab_type": "code",
        "colab": {
          "base_uri": "https://localhost:8080/",
          "height": 483
        },
        "outputId": "81cb7864-4c2b-4e28-e624-3360aa419769"
      },
      "source": [
        "loop = 1 # 1 means loop; anything else means don't loop.\n",
        "choice = 0 # This variable holds the user's choice in the menu\n",
        "\n",
        "def add(a,b):\n",
        " return a+b \n",
        "def sub(a,b):\n",
        " return a-b\n",
        "def mul(a,b):\n",
        " return a*b\n",
        "def div(a,b):\n",
        " return a/b\n",
        "\n",
        "while loop == 1:\n",
        "\n",
        " print (\"Welcome to calculator.py\")\n",
        " print (\"your options are:\")\n",
        " print (\"\")\n",
        " print(\"1) Addition\")\n",
        " print(\"2) Subtraction\")\n",
        " print(\"3) Multiplication\")\n",
        " print(\"4) Division\")\n",
        " print(\"5) Quit calculator.py\")\n",
        " print(\"\")\n",
        " try:\n",
        "  choice = int(input(\"Choose your option: \"))\n",
        " except:\n",
        "  print('please enter a valid number for option')\n",
        "  print(\"\")\n",
        "  print(\"\")\n",
        "if choice == 1:\n",
        " x = int(input(\"Enter 1st no: \"))\n",
        " y = int(input(\"Enter 2nd no: \"))\n",
        " print(\"The answer is \",add(x,y))\n",
        "\n",
        "elif choice == 2:\n",
        " x = int(input(\"Enter 1st no: \"))\n",
        " y = int(input(\"Enter 2nd no: \"))\n",
        " print(\"answer is \",sub(x,y))\n",
        "\n",
        "elif choice == 3:\n",
        " x = int(input(\"Enter 1st no: \"))\n",
        " y = int(input(\"Enter 2nd no: \"))\n",
        " print(\"answer is \",mul(x,y))\n",
        "\n",
        "elif choice == 4:\n",
        " x = int(input(\"Enter 1st no: \"))\n",
        " y = int(input(\"Enter 2nd no: \"))\n",
        " print(\"answer is \",div(x,y))\n",
        "\n",
        "elif choice == 5:\n",
        " loop = 0\n",
        "\n",
        "else:\n",
        " print(\"please choice a valid option from 1 to 5\")\n",
        " choice=0\n",
        " print (\"Thank-you for using calculator.py!\")\n"
      ],
      "execution_count": 0,
      "outputs": [
        {
          "output_type": "stream",
          "text": [
            "please enter a valid number for option\n",
            "\n",
            "\n",
            "Welcome to calculator.py\n",
            "your options are:\n",
            "\n",
            "1) Addition\n",
            "2) Subtraction\n",
            "3) Multiplication\n",
            "4) Division\n",
            "5) Quit calculator.py\n",
            "\n",
            "please enter a valid number for option\n",
            "\n",
            "\n",
            "Welcome to calculator.py\n",
            "your options are:\n",
            "\n",
            "1) Addition\n",
            "2) Subtraction\n",
            "3) Multiplication\n",
            "4) Division\n",
            "5) Quit calculator.py\n",
            "\n"
          ],
          "name": "stdout"
        }
      ]
    }
  ]
}