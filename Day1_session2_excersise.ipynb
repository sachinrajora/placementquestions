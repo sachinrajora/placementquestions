{
  "nbformat": 4,
  "nbformat_minor": 0,
  "metadata": {
    "colab": {
      "name": "Day1_session2_excersise.ipynb",
      "provenance": [],
      "authorship_tag": "ABX9TyNmHscjpgFD4gLHadYOIQrG",
      "include_colab_link": true
    },
    "kernelspec": {
      "name": "python3",
      "display_name": "Python 3"
    }
  },
  "cells": [
    {
      "cell_type": "markdown",
      "metadata": {
        "id": "view-in-github",
        "colab_type": "text"
      },
      "source": [
        "<a href=\"https://colab.research.google.com/github/sachinrajora/placementquestions/blob/master/Day1_session2_excersise.ipynb\" target=\"_parent\"><img src=\"https://colab.research.google.com/assets/colab-badge.svg\" alt=\"Open In Colab\"/></a>"
      ]
    },
    {
      "cell_type": "markdown",
      "metadata": {
        "id": "u8nHOhqFJUzq",
        "colab_type": "text"
      },
      "source": [
        "**1 Write a program to print the triangle**\n",
        "\n",
        "**i/p  4**\n",
        "\n",
        "1\n",
        "\n",
        "2    3\n",
        "\n",
        "3    4   5\n",
        "\n",
        "4    5   6   7\n"
      ]
    },
    {
      "cell_type": "code",
      "metadata": {
        "id": "jEYpgfzHJ8Ah",
        "colab_type": "code",
        "colab": {
          "base_uri": "https://localhost:8080/",
          "height": 102
        },
        "outputId": "9e93c4b4-992d-49a0-c9ce-f7e92ecfaf64"
      },
      "source": [
        "rows = 4\n",
        "for i in range(0, rows+1):\n",
        "    for j in range(i, i+i , 1):\n",
        "        print(j, end=' ')\n",
        "    print()"
      ],
      "execution_count": 1,
      "outputs": [
        {
          "output_type": "stream",
          "text": [
            "\n",
            "1 \n",
            "2 3 \n",
            "3 4 5 \n",
            "4 5 6 7 \n"
          ],
          "name": "stdout"
        }
      ]
    },
    {
      "cell_type": "markdown",
      "metadata": {
        "id": "hzuCxPBRKPSn",
        "colab_type": "text"
      },
      "source": [
        "**2 Write a program to print the triangle**\n",
        "\n",
        "**i/p  4**\n",
        "\n",
        "*\n",
        "\n",
        "* *\n",
        "\n",
        "* * *\n",
        "\n",
        "* * * *\n"
      ]
    },
    {
      "cell_type": "code",
      "metadata": {
        "id": "NjDRqkEAKiQ9",
        "colab_type": "code",
        "colab": {
          "base_uri": "https://localhost:8080/",
          "height": 102
        },
        "outputId": "f45b74e3-a5dd-4038-b944-127ce83f9e09"
      },
      "source": [
        "rows = 4\n",
        "for i in range(0, rows+1):\n",
        "    for j in range(i, i+i , 1):\n",
        "        print('*', end=' ')\n",
        "    print()"
      ],
      "execution_count": 2,
      "outputs": [
        {
          "output_type": "stream",
          "text": [
            "\n",
            "* \n",
            "* * \n",
            "* * * \n",
            "* * * * \n"
          ],
          "name": "stdout"
        }
      ]
    },
    {
      "cell_type": "markdown",
      "metadata": {
        "id": "VqNr9euAKl0t",
        "colab_type": "text"
      },
      "source": [
        "**3 Write a program to print the triangle**\n",
        "\n",
        "**i/p  5**\n",
        "\n",
        "5\n",
        "\n",
        "4 5\n",
        "\n",
        "3 4 5\n",
        "\n",
        "2 3 4 5\n",
        "\n",
        "1 2 3 4 5\n"
      ]
    },
    {
      "cell_type": "code",
      "metadata": {
        "id": "E7GWdttOKz_e",
        "colab_type": "code",
        "colab": {
          "base_uri": "https://localhost:8080/",
          "height": 102
        },
        "outputId": "61da819d-e517-46eb-8dc2-7c6748297d79"
      },
      "source": [
        "rows = 5\n",
        "for i in range(0, rows):\n",
        "    for j in range(rows-i , rows+1 , 1):\n",
        "        print(j, end=' ')\n",
        "    print()"
      ],
      "execution_count": 3,
      "outputs": [
        {
          "output_type": "stream",
          "text": [
            "5 \n",
            "4 5 \n",
            "3 4 5 \n",
            "2 3 4 5 \n",
            "1 2 3 4 5 \n"
          ],
          "name": "stdout"
        }
      ]
    },
    {
      "cell_type": "markdown",
      "metadata": {
        "id": "VRcVms8_LNXs",
        "colab_type": "text"
      },
      "source": [
        "**4 Write a program to print the triangle**\n",
        "\n",
        "**i/p  5**\n",
        "\n",
        "5 4 3 2 1\n",
        "\n",
        "4 3 2 1\n",
        "\n",
        "3 2 1\n",
        "\n",
        "2 1\n",
        "\n",
        "1\n",
        "\n"
      ]
    },
    {
      "cell_type": "code",
      "metadata": {
        "id": "npy3of5NLVMM",
        "colab_type": "code",
        "colab": {
          "base_uri": "https://localhost:8080/",
          "height": 119
        },
        "outputId": "7eca3f89-5196-4e9a-ccc9-a992d12c73de"
      },
      "source": [
        "rows = 5\n",
        "for i in range(0, rows+1):\n",
        "    for j in range(rows-i, 0 , -1):\n",
        "        print(j, end=' ')\n",
        "    print()"
      ],
      "execution_count": 5,
      "outputs": [
        {
          "output_type": "stream",
          "text": [
            "5 4 3 2 1 \n",
            "4 3 2 1 \n",
            "3 2 1 \n",
            "2 1 \n",
            "1 \n",
            "\n"
          ],
          "name": "stdout"
        }
      ]
    },
    {
      "cell_type": "markdown",
      "metadata": {
        "id": "cmYBZ6rdK3H7",
        "colab_type": "text"
      },
      "source": [
        "**5 Write a program to print the triangle**\n",
        "\n",
        "**i/p  5**\n",
        "\n",
        "1 2 3 4 \n",
        "\n",
        "2 3 4 \n",
        "\n",
        "3 4 \n",
        "\n",
        "4 \n",
        "\n",
        "3 4 \n",
        "\n",
        "2 3 4 \n",
        "\n",
        "1 2 3 4\n"
      ]
    },
    {
      "cell_type": "code",
      "metadata": {
        "id": "140909AIK_Ja",
        "colab_type": "code",
        "colab": {
          "base_uri": "https://localhost:8080/",
          "height": 136
        },
        "outputId": "32aec09d-9b08-447e-9303-4492f06ffa43"
      },
      "source": [
        "rows = 4\n",
        "for i in range(1, rows+1):\n",
        "    for j in range(i, rows+1 , 1):\n",
        "        print(j, end=' ')\n",
        "    print()\n",
        "for i in range(1,rows):\n",
        "  for j in range(rows-i,rows+1,1):\n",
        "    print(j,end=\" \")\n",
        "  print()"
      ],
      "execution_count": 4,
      "outputs": [
        {
          "output_type": "stream",
          "text": [
            "1 2 3 4 \n",
            "2 3 4 \n",
            "3 4 \n",
            "4 \n",
            "3 4 \n",
            "2 3 4 \n",
            "1 2 3 4 \n"
          ],
          "name": "stdout"
        }
      ]
    },
    {
      "cell_type": "markdown",
      "metadata": {
        "id": "NNhylkt5Lfrz",
        "colab_type": "text"
      },
      "source": [
        "**6 Find the length of a string without using len functions**"
      ]
    },
    {
      "cell_type": "code",
      "metadata": {
        "id": "hL4b-lF4LjfC",
        "colab_type": "code",
        "colab": {
          "base_uri": "https://localhost:8080/",
          "height": 68
        },
        "outputId": "8910c3e4-43cd-4b50-a4d6-0f1c35a128ca"
      },
      "source": [
        "string=str(input(\"Enter string:\"))\n",
        "count=0\n",
        "for i in string:\n",
        "      count=count+1\n",
        "print(\"Length of the string is:\")\n",
        "print(count)"
      ],
      "execution_count": 6,
      "outputs": [
        {
          "output_type": "stream",
          "text": [
            "Enter string:hey, i am sachin\n",
            "Length of the string is:\n",
            "16\n"
          ],
          "name": "stdout"
        }
      ]
    },
    {
      "cell_type": "markdown",
      "metadata": {
        "id": "KcwWeMlyLthz",
        "colab_type": "text"
      },
      "source": [
        "**7 Find the no of words and characters in a string**"
      ]
    },
    {
      "cell_type": "code",
      "metadata": {
        "id": "mIkYDo6_Lwsi",
        "colab_type": "code",
        "colab": {
          "base_uri": "https://localhost:8080/",
          "height": 68
        },
        "outputId": "9b0eb6d3-96b0-4f50-95e4-876e6ce9c2da"
      },
      "source": [
        "def count(s):\n",
        "  c=0\n",
        "  a=s.split()\n",
        "  v=len(a)\n",
        "  for i in a:\n",
        "    c=c+len(i)\n",
        "  print(\"word count=\",v)\n",
        "  print(\"sentence count=\",c)\n",
        "s=str(input(\"enter the string:\"))\n",
        "count(s)"
      ],
      "execution_count": 7,
      "outputs": [
        {
          "output_type": "stream",
          "text": [
            "enter the string:hey i am sachin rajora\n",
            "word count= 5\n",
            "sentence count= 18\n"
          ],
          "name": "stdout"
        }
      ]
    },
    {
      "cell_type": "markdown",
      "metadata": {
        "id": "Ahd7uMCdMADD",
        "colab_type": "text"
      },
      "source": [
        "**8. Find the no of occurrences of a word in a string**"
      ]
    },
    {
      "cell_type": "code",
      "metadata": {
        "id": "hbr1an3NMDHS",
        "colab_type": "code",
        "colab": {
          "base_uri": "https://localhost:8080/",
          "height": 68
        },
        "outputId": "ed4106a8-bb30-44b0-838b-26139cffacfe"
      },
      "source": [
        "def countOccurences(str, word): \n",
        "    a = str.split(\" \")  \n",
        "    count = 0\n",
        "    for i in range(0, len(a)):   \n",
        "        if (word == a[i]): \n",
        "           count = count + 1\n",
        "    return count        \n",
        "string =str(input(\"enter the string\"))\n",
        "word =str(input(\"enter the word\"))\n",
        "print(countOccurences(string, word))"
      ],
      "execution_count": 8,
      "outputs": [
        {
          "output_type": "stream",
          "text": [
            "enter the stringcat dog mouse cat goat cat muse cat cat\n",
            "enter the wordcat\n",
            "5\n"
          ],
          "name": "stdout"
        }
      ]
    }
  ]
}