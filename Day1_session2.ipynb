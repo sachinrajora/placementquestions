{
  "nbformat": 4,
  "nbformat_minor": 0,
  "metadata": {
    "colab": {
      "name": "Day1_session2.ipynb",
      "provenance": [],
      "authorship_tag": "ABX9TyPNjvf5wQTcO8zF/kn3Lx+F",
      "include_colab_link": true
    },
    "kernelspec": {
      "name": "python3",
      "display_name": "Python 3"
    }
  },
  "cells": [
    {
      "cell_type": "markdown",
      "metadata": {
        "id": "view-in-github",
        "colab_type": "text"
      },
      "source": [
        "<a href=\"https://colab.research.google.com/github/sachinrajora/placementquestions/blob/master/Day1_session2.ipynb\" target=\"_parent\"><img src=\"https://colab.research.google.com/assets/colab-badge.svg\" alt=\"Open In Colab\"/></a>"
      ]
    },
    {
      "cell_type": "markdown",
      "metadata": {
        "id": "0j9SYJFfEuPD",
        "colab_type": "text"
      },
      "source": [
        "**Python Program to find the factorial of a number using loop**"
      ]
    },
    {
      "cell_type": "code",
      "metadata": {
        "id": "urgceZ0KE0pc",
        "colab_type": "code",
        "colab": {
          "base_uri": "https://localhost:8080/",
          "height": 68
        },
        "outputId": "2a871045-01e9-4cdc-f4b5-2f74388e7c39"
      },
      "source": [
        "n=int(input(\"Enter number:\"))\n",
        "fact=1\n",
        "\n",
        "while(n>0):\n",
        " fact=fact*n\n",
        " n=n-1\n",
        "print(\"Factorial of the number is: \")\n",
        "print(fact)\n"
      ],
      "execution_count": 2,
      "outputs": [
        {
          "output_type": "stream",
          "text": [
            "Enter number:5\n",
            "Factorial of the number is: \n",
            "120\n"
          ],
          "name": "stdout"
        }
      ]
    },
    {
      "cell_type": "markdown",
      "metadata": {
        "id": "amTW_5yWE3kU",
        "colab_type": "text"
      },
      "source": [
        "**Python Program to reverse a number using loop**"
      ]
    },
    {
      "cell_type": "code",
      "metadata": {
        "id": "4FfioF2jE-MT",
        "colab_type": "code",
        "colab": {
          "base_uri": "https://localhost:8080/",
          "height": 68
        },
        "outputId": "91744fcc-cf7d-4f33-b3b4-fe0342c1d0c4"
      },
      "source": [
        "r=0\n",
        "n=int(input(\"Enter a number: \"))\n",
        "while(n>0):\n",
        " dig=n%10\n",
        " r=r*10+dig\n",
        " n=n//10\n",
        "print(\"The reversed no  is:\")\n",
        "print(r)\n"
      ],
      "execution_count": 4,
      "outputs": [
        {
          "output_type": "stream",
          "text": [
            "Enter a number: 513565\n",
            "The reversed no  is:\n",
            "565315\n"
          ],
          "name": "stdout"
        }
      ]
    },
    {
      "cell_type": "markdown",
      "metadata": {
        "id": "MbMURvxFFZmq",
        "colab_type": "text"
      },
      "source": [
        "**Write a Python program to construct the following pattern, using a nested for loop.**\n",
        "* \n",
        "* * \n",
        "* * * \n",
        "* * * * \n",
        "* * * * * \n",
        "* * * * \n",
        "* * * \n",
        "* * \n",
        "* \n"
      ]
    },
    {
      "cell_type": "code",
      "metadata": {
        "id": "RmWxDAe6FfEh",
        "colab_type": "code",
        "colab": {
          "base_uri": "https://localhost:8080/",
          "height": 187
        },
        "outputId": "2ff18ad2-3daa-4ace-ad48-9b6f446fa93c"
      },
      "source": [
        "n=5 \n",
        "for i in range(n):\n",
        " for j in range(i):\n",
        "  print ('* ', end=\"\")\n",
        " print('')\t\n",
        "\n",
        "for i in range(n,0,-1):\n",
        " for j in range(i):\n",
        "  print('* ', end=\"\")\n",
        " print('')\n"
      ],
      "execution_count": 8,
      "outputs": [
        {
          "output_type": "stream",
          "text": [
            "\n",
            "* \n",
            "* * \n",
            "* * * \n",
            "* * * * \n",
            "* * * * * \n",
            "* * * * \n",
            "* * * \n",
            "* * \n",
            "* \n"
          ],
          "name": "stdout"
        }
      ]
    },
    {
      "cell_type": "markdown",
      "metadata": {
        "id": "GqjinZqZFthD",
        "colab_type": "text"
      },
      "source": [
        "**Python Program to replace all occurrences of ‘a’ with ‘$’ in a string**"
      ]
    },
    {
      "cell_type": "code",
      "metadata": {
        "id": "__RHIWM2FxDi",
        "colab_type": "code",
        "colab": {
          "base_uri": "https://localhost:8080/",
          "height": 68
        },
        "outputId": "ddb97aab-5ae0-4355-bc19-c2b2485d4abe"
      },
      "source": [
        "string=input(\"Enter string:\")\n",
        "string=string.replace('a','$')\n",
        "string=string.replace('A','$')\n",
        "print(\"Modified string:\")\n",
        "print(string)\n"
      ],
      "execution_count": 9,
      "outputs": [
        {
          "output_type": "stream",
          "text": [
            "Enter string:ASDFAFGA\n",
            "Modified string:\n",
            "$SDF$FG$\n"
          ],
          "name": "stdout"
        }
      ]
    },
    {
      "cell_type": "markdown",
      "metadata": {
        "id": "quHmWV0WF03S",
        "colab_type": "text"
      },
      "source": [
        "**Program to remove the nth index character from a non-empty string.**"
      ]
    },
    {
      "cell_type": "code",
      "metadata": {
        "id": "-dj2WZvzGBWi",
        "colab_type": "code",
        "colab": {
          "base_uri": "https://localhost:8080/",
          "height": 85
        },
        "outputId": "99a4f020-15ee-4b55-9f06-5b757286cacb"
      },
      "source": [
        "def remove(string, n):  \n",
        " first = string[:n]   \n",
        " last = string[n+1:]  \n",
        " return first + last\n",
        "string=input(\"Enter the sring:\")\n",
        "n=int(input(\"Enter the index of the character to remove:\"))\n",
        "print(\"Modified string:\")\n",
        "print(remove(string, n))\n"
      ],
      "execution_count": 11,
      "outputs": [
        {
          "output_type": "stream",
          "text": [
            "Enter the sring:i am sachin\n",
            "Enter the index of the character to remove:6\n",
            "Modified string:\n",
            "i am schin\n"
          ],
          "name": "stdout"
        }
      ]
    },
    {
      "cell_type": "markdown",
      "metadata": {
        "id": "QVNIQDeaGDi6",
        "colab_type": "text"
      },
      "source": [
        "**Python Program to detect if two strings are anagrams**"
      ]
    },
    {
      "cell_type": "code",
      "metadata": {
        "id": "kU8YwSzBGGqp",
        "colab_type": "code",
        "colab": {
          "base_uri": "https://localhost:8080/",
          "height": 68
        },
        "outputId": "e9105cdb-6280-4425-db7c-537e9a1edfb3"
      },
      "source": [
        "s1=input(\"Enter first string:\")\n",
        "s2=input(\"Enter second string:\")\n",
        "if(sorted(s1)==sorted(s2)):\n",
        " print(\"The strings are anagrams.\")\n",
        "else:\n",
        " print(\"The strings aren't anagrams.\")\n"
      ],
      "execution_count": 13,
      "outputs": [
        {
          "output_type": "stream",
          "text": [
            "Enter first string:Sachin\n",
            "Enter second string:sachin\n",
            "The strings aren't anagrams.\n"
          ],
          "name": "stdout"
        }
      ]
    },
    {
      "cell_type": "markdown",
      "metadata": {
        "id": "m1NJxplRGI6C",
        "colab_type": "text"
      },
      "source": [
        "**Python Program to form a string where the first character and the last character have been exchanged.**"
      ]
    },
    {
      "cell_type": "code",
      "metadata": {
        "id": "bCh8k5JiGMyz",
        "colab_type": "code",
        "colab": {
          "base_uri": "https://localhost:8080/",
          "height": 68
        },
        "outputId": "de6f301c-bc78-4601-c08a-511180172923"
      },
      "source": [
        "def change(string):\n",
        " return string[-1:] + string[1:-1] + string[:1]\n",
        "string=input(\"Enter string:\")\n",
        "print(\"Modified string:\")\n",
        "print(change(string))\n"
      ],
      "execution_count": 15,
      "outputs": [
        {
          "output_type": "stream",
          "text": [
            "Enter string:SACHIN\n",
            "Modified string:\n",
            "NACHIS\n"
          ],
          "name": "stdout"
        }
      ]
    },
    {
      "cell_type": "markdown",
      "metadata": {
        "id": "LLzS6P5oGSWT",
        "colab_type": "text"
      },
      "source": [
        "**Program to  count number of vowels from a non-empty string**"
      ]
    },
    {
      "cell_type": "code",
      "metadata": {
        "id": "VC71K1i8GVoU",
        "colab_type": "code",
        "colab": {
          "base_uri": "https://localhost:8080/",
          "height": 68
        },
        "outputId": "c1aacf0b-ced2-4afd-d565-cea58d98283d"
      },
      "source": [
        "string=input(\"Enter string:\")\n",
        "vowels=0\n",
        "for i in string:\n",
        " if(i=='a' or i=='e' or i=='i' or i=='o' or i=='u' or i=='A' or i=='E' or i=='I' or i=='O' or i=='U'):\n",
        "  vowels=vowels+1\n",
        "print(\"Number of vowels are:\")\n",
        "print(vowels)\n"
      ],
      "execution_count": 17,
      "outputs": [
        {
          "output_type": "stream",
          "text": [
            "Enter string:Sachin rajora\n",
            "Number of vowels are:\n",
            "5\n"
          ],
          "name": "stdout"
        }
      ]
    },
    {
      "cell_type": "markdown",
      "metadata": {
        "id": "U-V8FZsAGXeS",
        "colab_type": "text"
      },
      "source": [
        "**Program for Divide by zero error detection**"
      ]
    },
    {
      "cell_type": "code",
      "metadata": {
        "id": "HLkHhHZvGbYt",
        "colab_type": "code",
        "colab": {}
      },
      "source": [
        "flag = True\n",
        "\n",
        "def div(a, b):  \n",
        " try:\n",
        "  print(\"Finally the division of %d/%d is %f\" % (a, b,a/b))\n",
        "  global flag\n",
        "  flag=False\n",
        " except if(ZeroDivisionError):\n",
        "   print(\"Zero Division Error detected\")\n",
        "  else:\n",
        "   print(\"Division is successful\") \n",
        " finally:\n",
        "  if flag is True:\n",
        "   print(\"Try again\")     \n",
        "  else:\n",
        "  print(\"Thank you\")\n",
        "\n",
        "#global flag\n",
        "\n",
        "while flag is True:\n",
        "div(int(input(\"Enter numerator\")),int(input(\"Enter denominator\")))\n",
        " "
      ],
      "execution_count": 0,
      "outputs": []
    }
  ]
}